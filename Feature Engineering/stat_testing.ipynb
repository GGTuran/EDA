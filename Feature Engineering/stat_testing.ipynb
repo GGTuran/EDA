{
 "cells": [
  {
   "cell_type": "code",
   "execution_count": 8,
   "id": "3a371c47",
   "metadata": {},
   "outputs": [],
   "source": [
    "import numpy as np\n",
    "import pandas as pd\n",
    "import scipy.stats as stats\n",
    "from scipy.stats import ttest_1samp\n",
    "import math"
   ]
  },
  {
   "cell_type": "code",
   "execution_count": 9,
   "id": "24297acf",
   "metadata": {},
   "outputs": [],
   "source": [
    "\n",
    "ages=[10,20,35,50,28,40,55,18,16,55,30,25,43,18,30,28,14,24,16,17,32,35,26,27,65,18,43,23,21,20,19,70]"
   ]
  },
  {
   "cell_type": "code",
   "execution_count": 10,
   "id": "c4d3d91c",
   "metadata": {},
   "outputs": [
    {
     "data": {
      "text/plain": [
       "[10,\n",
       " 20,\n",
       " 35,\n",
       " 50,\n",
       " 28,\n",
       " 40,\n",
       " 55,\n",
       " 18,\n",
       " 16,\n",
       " 55,\n",
       " 30,\n",
       " 25,\n",
       " 43,\n",
       " 18,\n",
       " 30,\n",
       " 28,\n",
       " 14,\n",
       " 24,\n",
       " 16,\n",
       " 17,\n",
       " 32,\n",
       " 35,\n",
       " 26,\n",
       " 27,\n",
       " 65,\n",
       " 18,\n",
       " 43,\n",
       " 23,\n",
       " 21,\n",
       " 20,\n",
       " 19,\n",
       " 70]"
      ]
     },
     "execution_count": 10,
     "metadata": {},
     "output_type": "execute_result"
    }
   ],
   "source": [
    "ages"
   ]
  },
  {
   "cell_type": "code",
   "execution_count": 11,
   "id": "85708e51",
   "metadata": {},
   "outputs": [
    {
     "data": {
      "text/plain": [
       "32"
      ]
     },
     "execution_count": 11,
     "metadata": {},
     "output_type": "execute_result"
    }
   ],
   "source": [
    "len(ages)"
   ]
  },
  {
   "cell_type": "code",
   "execution_count": 12,
   "id": "1dbfcb32",
   "metadata": {},
   "outputs": [
    {
     "name": "stdout",
     "output_type": "stream",
     "text": [
      "30.34375\n"
     ]
    }
   ],
   "source": [
    "ages_mean = np.mean(ages)\n",
    "print(ages_mean)"
   ]
  },
  {
   "cell_type": "code",
   "execution_count": 13,
   "id": "ae4ad746",
   "metadata": {},
   "outputs": [],
   "source": [
    "# One sample T-test\n",
    "sample_size = 10\n",
    "ages_sample = np.random.choice(ages, sample_size)"
   ]
  },
  {
   "cell_type": "code",
   "execution_count": 14,
   "id": "fbdc28a2",
   "metadata": {},
   "outputs": [
    {
     "data": {
      "text/plain": [
       "array([18, 10, 16, 18, 24, 16, 14, 20, 35, 20])"
      ]
     },
     "execution_count": 14,
     "metadata": {},
     "output_type": "execute_result"
    }
   ],
   "source": [
    "ages_sample"
   ]
  },
  {
   "cell_type": "code",
   "execution_count": 15,
   "id": "3e122b8b",
   "metadata": {},
   "outputs": [],
   "source": [
    "ttest, p_value = ttest_1samp(ages_sample, 30)"
   ]
  },
  {
   "cell_type": "code",
   "execution_count": 16,
   "id": "2fc13c3a",
   "metadata": {},
   "outputs": [
    {
     "data": {
      "text/plain": [
       "np.float64(-5.1137465249700655)"
      ]
     },
     "execution_count": 16,
     "metadata": {},
     "output_type": "execute_result"
    }
   ],
   "source": [
    "ttest"
   ]
  },
  {
   "cell_type": "code",
   "execution_count": 17,
   "id": "bb7ed341",
   "metadata": {},
   "outputs": [
    {
     "data": {
      "text/plain": [
       "np.float64(0.0006332948435352452)"
      ]
     },
     "execution_count": 17,
     "metadata": {},
     "output_type": "execute_result"
    }
   ],
   "source": [
    "p_value"
   ]
  },
  {
   "cell_type": "code",
   "execution_count": 18,
   "id": "e8106bac",
   "metadata": {},
   "outputs": [
    {
     "name": "stdout",
     "output_type": "stream",
     "text": [
      " we are rejecting null hypothesis\n"
     ]
    }
   ],
   "source": [
    "if p_value < 0.05:    \n",
    "    print(\" we are rejecting null hypothesis\")\n",
    "else:\n",
    "    print(\"we are accepting null hypothesis\")"
   ]
  },
  {
   "cell_type": "code",
   "execution_count": 20,
   "id": "62989b69",
   "metadata": {},
   "outputs": [],
   "source": [
    "np.random.seed(6)\n",
    "school_ages=stats.poisson.rvs(loc=18,mu=35,size=1500)\n",
    "classA_ages=stats.poisson.rvs(loc=18,mu=30,size=60)\n"
   ]
  },
  {
   "cell_type": "code",
   "execution_count": 21,
   "id": "1fd75540",
   "metadata": {},
   "outputs": [
    {
     "data": {
      "text/plain": [
       "np.float64(46.9)"
      ]
     },
     "execution_count": 21,
     "metadata": {},
     "output_type": "execute_result"
    }
   ],
   "source": [
    "classA_ages.mean()"
   ]
  },
  {
   "cell_type": "code",
   "execution_count": null,
   "id": "80e37493",
   "metadata": {},
   "outputs": [],
   "source": [
    "_,p_value=stats.ttest_1samp(a=classA_ages,popmean=school_ages.mean())"
   ]
  },
  {
   "cell_type": "code",
   "execution_count": 23,
   "id": "4ed2c099",
   "metadata": {},
   "outputs": [
    {
     "data": {
      "text/plain": [
       "np.float64(1.139027071016194e-13)"
      ]
     },
     "execution_count": 23,
     "metadata": {},
     "output_type": "execute_result"
    }
   ],
   "source": [
    "p_value"
   ]
  },
  {
   "cell_type": "code",
   "execution_count": 24,
   "id": "27df45c3",
   "metadata": {},
   "outputs": [
    {
     "name": "stdout",
     "output_type": "stream",
     "text": [
      " we are rejecting null hypothesis\n"
     ]
    }
   ],
   "source": [
    "if p_value < 0.05:    \n",
    "    print(\" we are rejecting null hypothesis\")\n",
    "else:\n",
    "    print(\"we are accepting null hypothesis\")"
   ]
  },
  {
   "cell_type": "code",
   "execution_count": null,
   "id": "5fc5037a",
   "metadata": {},
   "outputs": [
    {
     "data": {
      "text/plain": [
       "np.float64(50.63333333333333)"
      ]
     },
     "execution_count": 27,
     "metadata": {},
     "output_type": "execute_result"
    }
   ],
   "source": [
    "# Two sample T test\n",
    "np.random.seed(12)\n",
    "classB_ages = stats.poisson.rvs(loc=18, mu=33, size=60)\n",
    "classB_ages.mean()"
   ]
  },
  {
   "cell_type": "code",
   "execution_count": 29,
   "id": "e8ffd2c9",
   "metadata": {},
   "outputs": [
    {
     "data": {
      "text/plain": [
       "np.float64(0.00039942095100859375)"
      ]
     },
     "execution_count": 29,
     "metadata": {},
     "output_type": "execute_result"
    }
   ],
   "source": [
    "_, p_value = stats.ttest_ind(a=classA_ages, b=classB_ages, equal_var=False)\n",
    "p_value"
   ]
  },
  {
   "cell_type": "code",
   "execution_count": 30,
   "id": "a9d738b5",
   "metadata": {},
   "outputs": [
    {
     "name": "stdout",
     "output_type": "stream",
     "text": [
      " we are rejecting null hypothesis\n"
     ]
    }
   ],
   "source": [
    "if p_value < 0.05:    \n",
    "    print(\" we are rejecting null hypothesis\")\n",
    "else:\n",
    "    print(\"we are accepting null hypothesis\")"
   ]
  },
  {
   "cell_type": "code",
   "execution_count": 31,
   "id": "99c71233",
   "metadata": {},
   "outputs": [],
   "source": [
    "# Paired T test\n",
    "weight1=[25,30,28,35,28,34,26,29,30,26,28,32,31,30,45]\n",
    "weight2=weight1+stats.norm.rvs(scale=5,loc=-1.25,size=15)"
   ]
  },
  {
   "cell_type": "code",
   "execution_count": 32,
   "id": "228919a6",
   "metadata": {},
   "outputs": [],
   "source": [
    "weight_df=pd.DataFrame({\"weight_10\":np.array(weight1),\n",
    "                         \"weight_20\":np.array(weight2),\n",
    "                       \"weight_change\":np.array(weight2)-np.array(weight1)})"
   ]
  },
  {
   "cell_type": "code",
   "execution_count": 33,
   "id": "94abb01a",
   "metadata": {},
   "outputs": [],
   "source": [
    "_,p_value=stats.ttest_rel(a=weight1,b=weight2)"
   ]
  },
  {
   "cell_type": "code",
   "execution_count": 34,
   "id": "b5085143",
   "metadata": {},
   "outputs": [
    {
     "data": {
      "text/plain": [
       "np.float64(0.5732936534411279)"
      ]
     },
     "execution_count": 34,
     "metadata": {},
     "output_type": "execute_result"
    }
   ],
   "source": [
    "p_value"
   ]
  },
  {
   "cell_type": "code",
   "execution_count": 35,
   "id": "0624672a",
   "metadata": {},
   "outputs": [
    {
     "name": "stdout",
     "output_type": "stream",
     "text": [
      "we are accepting null hypothesis\n"
     ]
    }
   ],
   "source": [
    "if p_value < 0.05:    \n",
    "    print(\" we are rejecting null hypothesis\")\n",
    "else:\n",
    "    print(\"we are accepting null hypothesis\")"
   ]
  },
  {
   "cell_type": "code",
   "execution_count": null,
   "id": "10342054",
   "metadata": {},
   "outputs": [],
   "source": []
  }
 ],
 "metadata": {
  "kernelspec": {
   "display_name": "venv",
   "language": "python",
   "name": "python3"
  },
  "language_info": {
   "codemirror_mode": {
    "name": "ipython",
    "version": 3
   },
   "file_extension": ".py",
   "mimetype": "text/x-python",
   "name": "python",
   "nbconvert_exporter": "python",
   "pygments_lexer": "ipython3",
   "version": "3.12.0"
  }
 },
 "nbformat": 4,
 "nbformat_minor": 5
}
